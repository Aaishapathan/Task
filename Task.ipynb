{
 "cells": [
  {
   "cell_type": "markdown",
   "id": "394601dc",
   "metadata": {},
   "source": [
    "### Task 1 :- an email ID as input and slicing it into username and domain name. \n"
   ]
  },
  {
   "cell_type": "code",
   "execution_count": 5,
   "id": "97003f42",
   "metadata": {},
   "outputs": [
    {
     "name": "stdout",
     "output_type": "stream",
     "text": [
      "Enter your mailid : aaishapathan87@gmail.com\n",
      "Username is :  aaishapathan\n",
      "Domain is :  gmail.com\n"
     ]
    }
   ],
   "source": [
    "import re\n",
    "#for username\n",
    "m=input(\"Enter your mailid : \")\n",
    "r=\"^[A-za-z]+\"\n",
    "t=re.findall(r,m)\n",
    "username=\" \"\n",
    "u=username.join(t)\n",
    "\n",
    "\n",
    "print(\"Username is : \",u)\n",
    "\n",
    "#for domain\n",
    "r1=\"(gmail.com)\"\n",
    "t1=re.findall(r1,m)\n",
    "\n",
    "domain=\" \"\n",
    "d=domain.join(t1)\n",
    "print(\"Domain is : \",d)"
   ]
  },
  {
   "cell_type": "markdown",
   "id": "af5cae4b",
   "metadata": {},
   "source": [
    "### Task 2 :- an email ID as input and slicing it into username and domain name by using index()."
   ]
  },
  {
   "cell_type": "code",
   "execution_count": 2,
   "id": "ac400ac3",
   "metadata": {},
   "outputs": [
    {
     "name": "stdout",
     "output_type": "stream",
     "text": [
      "Enter Your Email:  aaishapathan65@gmail.com\n",
      "Username is : aaishapathan65 \n",
      " Domain is : gmail.com \n"
     ]
    }
   ],
   "source": [
    "email = input(\"Enter Your Email: \").strip()\n",
    "#strip() function will remove any additional & unwanted spacing on both sides of strings\n",
    "username = email[:email.index('@')] #index() function searches for the particular element or character within the string and lists it is associated with and return its index number.\n",
    "domain = email[email.index('@') + 1:]\n",
    "print(\"Username is : {} \\n Domain is : {} \".format(username,domain))"
   ]
  },
  {
   "cell_type": "markdown",
   "id": "72ceae60",
   "metadata": {},
   "source": [
    "### Task 3 : A list of word is given and you have to print only those words which are longer than the given no n. N has to take as input from the user."
   ]
  },
  {
   "cell_type": "code",
   "execution_count": 60,
   "id": "5d9acaf1",
   "metadata": {},
   "outputs": [
    {
     "name": "stdout",
     "output_type": "stream",
     "text": [
      "Enter a number : 4\n",
      "['Python', 'java', 'Kotlin']\n"
     ]
    }
   ],
   "source": [
    "Given_list=[\"Python\",\"java\",\"c\",\"c++\",\"Kotlin\"]\n",
    "New_list=[]\n",
    "n=int(input(\"Enter a number : \"))\n",
    "\n",
    "\n",
    "for i in Given_list:\n",
    "    if len(i)>=n:\n",
    "        New_list.append(i)\n",
    "print(New_list)\n",
    "\n"
   ]
  },
  {
   "cell_type": "markdown",
   "id": "a74858b2",
   "metadata": {},
   "source": [
    "### Task 4: Create acronymn of Artificial Intelligence like AI"
   ]
  },
  {
   "cell_type": "code",
   "execution_count": 4,
   "id": "8401fd0d",
   "metadata": {},
   "outputs": [
    {
     "name": "stdout",
     "output_type": "stream",
     "text": [
      "Enter a string : Artificial Intelligence\n",
      "Acronymn of Artificial Intelligence is : AI \n"
     ]
    }
   ],
   "source": [
    "i=input(\"Enter a string : \")\n",
    "s=i.split()\n",
    "for x in s:\n",
    "    t=s[0:1]\n",
    "    #print(t)\n",
    "    t1=s[1:2]\n",
    "    #print(t1)\n",
    "t2=\" \"\n",
    "tt=t2.join(t)\n",
    "#print(tt)\n",
    "\n",
    "t3=\" \"\n",
    "ttt=t3.join(t1)\n",
    "#print(ttt)\n",
    "p=tt[0]\n",
    "p1=ttt[0]\n",
    "print(\"Acronymn of {} is : {} \".format(i,p+p1))\n",
    "    "
   ]
  },
  {
   "cell_type": "markdown",
   "id": "34b57b07",
   "metadata": {},
   "source": [
    "### Task 5: create acronymn for inputted string"
   ]
  },
  {
   "cell_type": "code",
   "execution_count": 7,
   "id": "173530e3",
   "metadata": {},
   "outputs": [
    {
     "name": "stdout",
     "output_type": "stream",
     "text": [
      "Enter a string : Data Base Management System\n",
      "Acronymn of the Data Base Management System is : DBMS \n"
     ]
    }
   ],
   "source": [
    "inp=input(\"Enter a string : \")\n",
    "ss=inp.split()\n",
    "#print(ss)\n",
    "a=\"\"\n",
    "for y in ss:\n",
    "    a=a+y[0]\n",
    "    #print(y)\n",
    "print(\"Acronymn of the {} is : {} \".format(inp,a))\n",
    "    "
   ]
  },
  {
   "cell_type": "code",
   "execution_count": null,
   "id": "a5b44747",
   "metadata": {},
   "outputs": [],
   "source": []
  }
 ],
 "metadata": {
  "kernelspec": {
   "display_name": "Python 3",
   "language": "python",
   "name": "python3"
  },
  "language_info": {
   "codemirror_mode": {
    "name": "ipython",
    "version": 3
   },
   "file_extension": ".py",
   "mimetype": "text/x-python",
   "name": "python",
   "nbconvert_exporter": "python",
   "pygments_lexer": "ipython3",
   "version": "3.8.8"
  }
 },
 "nbformat": 4,
 "nbformat_minor": 5
}
